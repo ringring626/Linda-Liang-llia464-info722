{
 "cells": [
  {
   "cell_type": "code",
   "execution_count": 1,
   "metadata": {},
   "outputs": [],
   "source": [
    "import findspark\n",
    "findspark.init('/home/ubuntu/spark-2.1.1-bin-hadoop2.7')\n",
    "import pyspark\n",
    "from pyspark.sql import SparkSession\n",
    "spark = SparkSession.builder.appName('Iteration4').getOrCreate()\n",
    "from pyspark.sql.functions import to_date\n",
    "from pyspark.sql.functions import year\n",
    "from sklearn.utils import resample\n",
    "import pandas"
   ]
  },
  {
   "cell_type": "code",
   "execution_count": 2,
   "metadata": {},
   "outputs": [],
   "source": [
    "df1 = spark.read.csv('./NYPD_Arrest_Data__Year_to_Date_.csv', header = True, inferSchema = True)\n",
    "df2 = spark.read.csv('./NYPD_Arrests_Data__Historic_.csv', header = True, inferSchema = True)"
   ]
  },
  {
   "cell_type": "code",
   "execution_count": 3,
   "metadata": {},
   "outputs": [],
   "source": [
    "df1 = df1['ARREST_KEY','ARREST_DATE','PD_CD','PD_DESC','KY_CD', 'OFNS_DESC', 'LAW_CODE', 'LAW_CAT_CD', 'ARREST_BORO', 'ARREST_PRECINCT', 'JURISDICTION_CODE', 'AGE_GROUP','PERP_SEX','PERP_RACE','X_COORD_CD','Y_COORD_CD','Latitude','Longitude']\n",
    "df2 = df2['ARREST_KEY','ARREST_DATE','PD_CD','PD_DESC','KY_CD', 'OFNS_DESC', 'LAW_CODE', 'LAW_CAT_CD', 'ARREST_BORO', 'ARREST_PRECINCT', 'JURISDICTION_CODE', 'AGE_GROUP','PERP_SEX','PERP_RACE','X_COORD_CD','Y_COORD_CD','Latitude','Longitude']\n",
    "data = df1.union(df2)\n",
    "data.toPandas().to_csv('y2d.csv')"
   ]
  },
  {
   "cell_type": "code",
   "execution_count": 7,
   "metadata": {},
   "outputs": [],
   "source": [
    "expr1 = \"^((0[1])[- /.](0[1-9]|[12][0-9]|3[01])[- /.](2021))$\"\n",
    "expr2 = \"^(0[7-9]|(1[012])[- /.](0[1-9]|[12][0-9]|3[01])[- /.](2020))$\"\n",
    "df1 = df1.filter(df1['ARREST_DATE'].rlike(expr1))\n",
    "df2 = df2.filter(df2['ARREST_DATE'].rlike(expr2))"
   ]
  },
  {
   "cell_type": "code",
   "execution_count": 8,
   "metadata": {},
   "outputs": [],
   "source": [
    "df1 = df1[ [\"ARREST_DATE\",\"ARREST_BORO\",\"OFNS_DESC\", \"ARREST_PRECINCT\", \"X_COORD_CD\", \"Y_COORD_CD\", \"Latitude\", \"Longitude\"] ]\n",
    "df2 = df2[ [\"ARREST_DATE\",\"ARREST_BORO\",\"OFNS_DESC\", \"ARREST_PRECINCT\", \"X_COORD_CD\", \"Y_COORD_CD\", \"Latitude\", \"Longitude\"] ]"
   ]
  },
  {
   "cell_type": "code",
   "execution_count": 38,
   "metadata": {},
   "outputs": [
    {
     "data": {
      "text/plain": [
       "([<matplotlib.axis.XTick at 0x7fbe988d7b70>,\n",
       "  <matplotlib.axis.XTick at 0x7fbe994c47f0>,\n",
       "  <matplotlib.axis.XTick at 0x7fbe9a881518>,\n",
       "  <matplotlib.axis.XTick at 0x7fbe9a7e4710>,\n",
       "  <matplotlib.axis.XTick at 0x7fbe9a7e4c18>],\n",
       " <a list of 5 Text xticklabel objects>)"
      ]
     },
     "execution_count": 38,
     "metadata": {},
     "output_type": "execute_result"
    },
    {
     "name": "stderr",
     "output_type": "stream",
     "text": [
      "/home/ubuntu/.local/lib/python3.5/site-packages/matplotlib/font_manager.py:1328: UserWarning: findfont: Font family ['sans-serif'] not found. Falling back to DejaVu Sans\n",
      "  (prop.get_family(), self.defaultFamily[fontext]))\n"
     ]
    },
    {
     "data": {
      "image/png": "[encoded data removed]",
      "text/plain": [
       "<Figure size 576x396 with 1 Axes>"
      ]
     },
     "metadata": {},
     "output_type": "display_data"
    }
   ],
   "source": [
    "data = df1.union(df2)\n",
    "data.toPandas().to_csv('y2d.csv')\n",
    "res = data.groupBy('ARREST_BORO').count().collect()\n",
    "cat = [i[0] for i in res]\n",
    "count = [i[1] for i in res]\n",
    "ind = np.array(range(len(cat)))\n",
    "width = 0.35\n",
    "plt.bar(ind,count,width = width,color='b')\n",
    "plt.xticks(ind+width/2,cat)"
   ]
  },
  {
   "cell_type": "code",
   "execution_count": 10,
   "metadata": {},
   "outputs": [],
   "source": [
    "data = data.na.drop()"
   ]
  },
  {
   "cell_type": "code",
   "execution_count": 11,
   "metadata": {},
   "outputs": [],
   "source": [
    "data = data.withColumn(\"Borough_name\", data['ARREST_PRECINCT'])\n",
    "data = data.replace('B','Bronx', subset = ['Borough_name'])\n",
    "data = data.replace('M','Manhattan', subset = ['Borough_name'])\n",
    "data = data.replace('K','Brooklyn', subset = ['Borough_name'])\n",
    "data = data.replace('S','Staten Island', subset = ['Borough_name'])\n",
    "data = data.replace('Q','Queens', subset = ['Borough_name'])"
   ]
  },
  {
   "cell_type": "code",
   "execution_count": 12,
   "metadata": {},
   "outputs": [],
   "source": [
    "pdata = data.toPandas()"
   ]
  },
  {
   "cell_type": "code",
   "execution_count": 13,
   "metadata": {},
   "outputs": [],
   "source": [
    "cor1=pdata.corr('pearson')\n",
    "##cor1"
   ]
  },
  {
   "cell_type": "code",
   "execution_count": 14,
   "metadata": {},
   "outputs": [],
   "source": [
    "cor2=pdata.corr('spearman')"
   ]
  },
  {
   "cell_type": "code",
   "execution_count": 15,
   "metadata": {},
   "outputs": [],
   "source": [
    "import matplotlib.pyplot as plt\n",
    "import numpy as np"
   ]
  },
  {
   "cell_type": "code",
   "execution_count": 16,
   "metadata": {},
   "outputs": [
    {
     "data": {
      "text/plain": [
       "K    754\n",
       "S    638\n",
       "B    635\n",
       "M    622\n",
       "Q    589\n",
       "Name: ARREST_BORO, dtype: int64"
      ]
     },
     "execution_count": 16,
     "metadata": {},
     "output_type": "execute_result"
    }
   ],
   "source": [
    "#print('Before Balanced:\\n',pdata['ARREST_BORO'].value_counts())\n",
    "maj = pdata[(pdata.ARREST_BORO== \"M\")| (pdata.ARREST_BORO== \"K\")|(pdata.ARREST_BORO== \"B\")|(pdata.ARREST_BORO== \"Q\")]\n",
    "min = pdata[pdata.ARREST_BORO==\"S\"]\n",
    "df_majority_downsampled = resample(maj,replace=False, n_samples=2600,random_state=1000) \n",
    "df = pandas.concat([df_majority_downsampled, min])\n",
    "df.ARREST_BORO.value_counts()\n"
   ]
  },
  {
   "cell_type": "code",
   "execution_count": 43,
   "metadata": {},
   "outputs": [
    {
     "ename": "AttributeError",
     "evalue": "'DataFrame' object has no attribute 'to_csv'",
     "output_type": "error",
     "traceback": [
      "\u001b[0;31m---------------------------------------------------------------------------\u001b[0m",
      "\u001b[0;31mAttributeError\u001b[0m                            Traceback (most recent call last)",
      "\u001b[0;32m<ipython-input-43-e1bedd5b0e81>\u001b[0m in \u001b[0;36m<module>\u001b[0;34m()\u001b[0m\n\u001b[0;32m----> 1\u001b[0;31m \u001b[0mdf\u001b[0m\u001b[0;34m.\u001b[0m\u001b[0mto_csv\u001b[0m\u001b[0;34m(\u001b[0m\u001b[0;34m\"./training.csv\"\u001b[0m\u001b[0;34m,\u001b[0m \u001b[0mindex\u001b[0m\u001b[0;34m=\u001b[0m\u001b[0;32mFalse\u001b[0m\u001b[0;34m)\u001b[0m\u001b[0;34m\u001b[0m\u001b[0m\n\u001b[0m",
      "\u001b[0;32m~/spark-2.1.1-bin-hadoop2.7/python/pyspark/sql/dataframe.py\u001b[0m in \u001b[0;36m__getattr__\u001b[0;34m(self, name)\u001b[0m\n\u001b[1;32m    971\u001b[0m         \u001b[0;32mif\u001b[0m \u001b[0mname\u001b[0m \u001b[0;32mnot\u001b[0m \u001b[0;32min\u001b[0m \u001b[0mself\u001b[0m\u001b[0;34m.\u001b[0m\u001b[0mcolumns\u001b[0m\u001b[0;34m:\u001b[0m\u001b[0;34m\u001b[0m\u001b[0m\n\u001b[1;32m    972\u001b[0m             raise AttributeError(\n\u001b[0;32m--> 973\u001b[0;31m                 \"'%s' object has no attribute '%s'\" % (self.__class__.__name__, name))\n\u001b[0m\u001b[1;32m    974\u001b[0m         \u001b[0mjc\u001b[0m \u001b[0;34m=\u001b[0m \u001b[0mself\u001b[0m\u001b[0;34m.\u001b[0m\u001b[0m_jdf\u001b[0m\u001b[0;34m.\u001b[0m\u001b[0mapply\u001b[0m\u001b[0;34m(\u001b[0m\u001b[0mname\u001b[0m\u001b[0;34m)\u001b[0m\u001b[0;34m\u001b[0m\u001b[0m\n\u001b[1;32m    975\u001b[0m         \u001b[0;32mreturn\u001b[0m \u001b[0mColumn\u001b[0m\u001b[0;34m(\u001b[0m\u001b[0mjc\u001b[0m\u001b[0;34m)\u001b[0m\u001b[0;34m\u001b[0m\u001b[0m\n",
      "\u001b[0;31mAttributeError\u001b[0m: 'DataFrame' object has no attribute 'to_csv'"
     ]
    }
   ],
   "source": [
    "df.to_csv(\"./training.csv\", index=False)"
   ]
  },
  {
   "cell_type": "code",
   "execution_count": 40,
   "metadata": {},
   "outputs": [
    {
     "data": {
      "text/plain": [
       "([<matplotlib.axis.XTick at 0x7fbe9824ccf8>,\n",
       "  <matplotlib.axis.XTick at 0x7fbe9824c588>,\n",
       "  <matplotlib.axis.XTick at 0x7fbe9824c2e8>,\n",
       "  <matplotlib.axis.XTick at 0x7fbe98465ef0>,\n",
       "  <matplotlib.axis.XTick at 0x7fbe98472550>],\n",
       " <a list of 5 Text xticklabel objects>)"
      ]
     },
     "execution_count": 40,
     "metadata": {},
     "output_type": "execute_result"
    },
    {
     "name": "stderr",
     "output_type": "stream",
     "text": [
      "/home/ubuntu/.local/lib/python3.5/site-packages/matplotlib/font_manager.py:1328: UserWarning: findfont: Font family ['sans-serif'] not found. Falling back to DejaVu Sans\n",
      "  (prop.get_family(), self.defaultFamily[fontext]))\n"
     ]
    },
    {
     "data": {
      "image/png": "[encoded data removed]",
      "text/plain": [
       "<Figure size 576x396 with 1 Axes>"
      ]
     },
     "metadata": {},
     "output_type": "display_data"
    }
   ],
   "source": [
    "res = df.groupBy('ARREST_BORO').count().collect()\n",
    "cat = [i[0] for i in res]\n",
    "count = [i[1] for i in res]\n",
    "ind = np.array(range(len(cat)))\n",
    "width = 0.35\n",
    "plt.bar(ind,count,width = width,color='b')\n",
    "plt.xticks(ind+width/2,cat)"
   ]
  },
  {
   "cell_type": "code",
   "execution_count": 18,
   "metadata": {},
   "outputs": [],
   "source": [
    "df = spark.createDataFrame(df)"
   ]
  },
  {
   "cell_type": "code",
   "execution_count": 50,
   "metadata": {},
   "outputs": [],
   "source": [
    "df.toPandas().to_csv(\"./historic.csv\", index=False)"
   ]
  },
  {
   "cell_type": "code",
   "execution_count": 19,
   "metadata": {},
   "outputs": [],
   "source": [
    "#df.groupBy('OFNS_DESC').count().show(100, False)"
   ]
  },
  {
   "cell_type": "code",
   "execution_count": 20,
   "metadata": {},
   "outputs": [],
   "source": [
    "df_backup = df\n",
    "from pyspark.ml.linalg import Vectors\n",
    "from pyspark.ml.feature import VectorAssembler\n",
    "from pyspark.ml.feature import StringIndexer\n",
    "\n",
    "assembler = VectorAssembler(inputCols=['ARREST_PRECINCT', 'X_COORD_CD', 'Y_COORD_CD', 'Latitude', 'Longitude'], outputCol='features')\n",
    "output = assembler.transform(df)\n",
    "indexer = StringIndexer(inputCol=\"ARREST_BORO\", outputCol=\"ARREST_BOROind\")\n",
    "output_fixed = indexer.fit(output).transform(output)\n",
    "final_data = output_fixed.select(\"features\",'ARREST_BOROind')\n",
    "train_data,test_data = final_data.randomSplit([0.7,0.3])"
   ]
  },
  {
   "cell_type": "code",
   "execution_count": 48,
   "metadata": {},
   "outputs": [
    {
     "name": "stdout",
     "output_type": "stream",
     "text": [
      "2281\n",
      "+-----------+-----------+--------------------+---------------+----------+----------+------------------+------------------+------------+--------------------+--------------+\n",
      "|ARREST_DATE|ARREST_BORO|           OFNS_DESC|ARREST_PRECINCT|X_COORD_CD|Y_COORD_CD|          Latitude|         Longitude|Borough_name|            features|ARREST_BOROind|\n",
      "+-----------+-----------+--------------------+---------------+----------+----------+------------------+------------------+------------+--------------------+--------------+\n",
      "| 01/25/2021|          M|OFFENSES INVOLVIN...|             32| 1000977.0|  238383.0|40.820974294000045|-73.93956664899997|          32|[32.0,1000977.0,2...|           3.0|\n",
      "| 01/10/2021|          Q|     DANGEROUS DRUGS|            101| 1052603.0|  159210.0|40.603415582000025|-73.75384586599995|         101|[101.0,1052603.0,...|           4.0|\n",
      "| 01/02/2021|          B|MISCELLANEOUS PEN...|             45| 1032140.0|  242004.0| 40.83079891400007|-73.82694879599995|          45|[45.0,1032140.0,2...|           2.0|\n",
      "| 01/25/2021|          B|ASSAULT 3 & RELAT...|             40| 1010055.0|  235919.0| 40.81418945400002|-73.90677724599993|          40|[40.0,1010055.0,2...|           2.0|\n",
      "| 01/22/2021|          Q|             ROBBERY|            105| 1057767.0|  203993.0|40.726293088000034|-73.73476084899994|         105|[105.0,1057767.0,...|           4.0|\n",
      "| 01/08/2021|          Q|   DANGEROUS WEAPONS|            110| 1017678.0|  208719.0| 40.73950711900005|-73.87937342399994|         110|[110.0,1017678.0,...|           4.0|\n",
      "| 01/26/2021|          M|       GRAND LARCENY|             18|  990503.0|  215519.0|40.758232371000084|-73.97743058499998|          18|[18.0,990503.0,21...|           3.0|\n",
      "| 01/28/2021|          K|     DANGEROUS DRUGS|             88|  994283.0|  190096.0| 40.68844890700007|     -73.963824172|          88|[88.0,994283.0,19...|           0.0|\n",
      "| 01/15/2021|          B|       PETIT LARCENY|             46| 1011432.0|  247605.0|40.846260031000035|-73.90175529499999|          46|[46.0,1011432.0,2...|           2.0|\n",
      "| 01/26/2021|          B|ASSAULT 3 & RELAT...|             46| 1009507.0|  252093.0| 40.85858397000004|-73.90869606999998|          46|[46.0,1009507.0,2...|           2.0|\n",
      "| 01/07/2021|          B|            BURGLARY|             50| 1010984.0|  261034.0| 40.88311992000007|-73.90332096899994|          50|[50.0,1010984.0,2...|           2.0|\n",
      "| 01/26/2021|          K|ASSAULT 3 & RELAT...|             70|  991591.0|  169049.0| 40.63068215900006|-73.97355396999995|          70|[70.0,991591.0,16...|           0.0|\n",
      "| 01/14/2021|          B|   DANGEROUS WEAPONS|             40| 1009804.0|  235987.0|40.814376825000075|-73.90768375899995|          40|[40.0,1009804.0,2...|           2.0|\n",
      "| 01/24/2021|          Q|OFF. AGNST PUB OR...|            105| 1057767.0|  203993.0|40.726293088000034|-73.73476084899994|         105|[105.0,1057767.0,...|           4.0|\n",
      "| 01/26/2021|          K|VEHICLE AND TRAFF...|             88|  992737.0|  192879.0| 40.69608921700007|-73.96939527599994|          88|[88.0,992737.0,19...|           0.0|\n",
      "| 01/18/2021|          M|ASSAULT 3 & RELAT...|             34| 1006513.0|  253948.0| 40.86368344200008|-73.91951336999993|          34|[34.0,1006513.0,2...|           3.0|\n",
      "| 01/21/2021|          Q|OFF. AGNST PUB OR...|            113| 1046405.0|  187113.0|40.680048726000045|-73.77590919399995|         113|[113.0,1046405.0,...|           4.0|\n",
      "| 01/29/2021|          K|      FELONY ASSAULT|             63| 1008491.0|  167496.0|40.626389379000045|-73.91267382799998|          63|[63.0,1008491.0,1...|           0.0|\n",
      "| 01/14/2021|          Q|GRAND LARCENY OF ...|            106| 1028605.0|  187930.0| 40.68239828900005|-73.84007936899997|         106|[106.0,1028605.0,...|           4.0|\n",
      "| 01/14/2021|          B|OFF. AGNST PUB OR...|             48| 1014256.0|  250228.0| 40.85345024200007|-73.89153654899997|          48|[48.0,1014256.0,2...|           2.0|\n",
      "+-----------+-----------+--------------------+---------------+----------+----------+------------------+------------------+------------+--------------------+--------------+\n",
      "only showing top 20 rows\n",
      "\n"
     ]
    }
   ],
   "source": [
    "print(train_data.count())\n",
    "output_fixed."
   ]
  },
  {
   "cell_type": "code",
   "execution_count": 22,
   "metadata": {},
   "outputs": [],
   "source": [
    "#Configuring decision tree\n",
    "from pyspark.ml.classification import DecisionTreeClassifier\n",
    "dtc = DecisionTreeClassifier(labelCol='ARREST_BOROind',featuresCol='features',maxDepth=4)\n",
    "dtmodel = dtc.fit(train_data)\n",
    "predictions = dtmodel.transform(test_data)"
   ]
  },
  {
   "cell_type": "code",
   "execution_count": 29,
   "metadata": {},
   "outputs": [
    {
     "name": "stdout",
     "output_type": "stream",
     "text": [
      "+--------------------+--------------+--------------------+--------------------+----------+\n",
      "|            features|ARREST_BOROind|       rawPrediction|         probability|prediction|\n",
      "+--------------------+--------------+--------------------+--------------------+----------+\n",
      "|[1.0,981170.0,197...|           3.0|[0.0,0.0,0.0,429....|[0.0,0.0,0.0,1.0,...|       3.0|\n",
      "|[1.0,981397.0,201...|           3.0|[0.0,0.0,0.0,429....|[0.0,0.0,0.0,1.0,...|       3.0|\n",
      "|[1.0,982060.0,201...|           3.0|[0.0,0.0,0.0,429....|[0.0,0.0,0.0,1.0,...|       3.0|\n",
      "|[1.0,982351.0,201...|           3.0|[0.0,0.0,0.0,429....|[0.0,0.0,0.0,1.0,...|       3.0|\n",
      "|[1.0,982351.0,201...|           3.0|[0.0,0.0,0.0,429....|[0.0,0.0,0.0,1.0,...|       3.0|\n",
      "|[1.0,982351.0,201...|           3.0|[0.0,0.0,0.0,429....|[0.0,0.0,0.0,1.0,...|       3.0|\n",
      "|[1.0,983628.0,201...|           3.0|[0.0,0.0,0.0,429....|[0.0,0.0,0.0,1.0,...|       3.0|\n",
      "|[5.0,983125.0,199...|           3.0|[0.0,0.0,0.0,429....|[0.0,0.0,0.0,1.0,...|       3.0|\n",
      "|[5.0,983673.0,199...|           3.0|[0.0,0.0,0.0,429....|[0.0,0.0,0.0,1.0,...|       3.0|\n",
      "|[5.0,983903.0,200...|           3.0|[0.0,0.0,0.0,429....|[0.0,0.0,0.0,1.0,...|       3.0|\n",
      "|[5.0,984984.0,200...|           3.0|[0.0,0.0,0.0,429....|[0.0,0.0,0.0,1.0,...|       3.0|\n",
      "|[5.0,984984.0,200...|           3.0|[0.0,0.0,0.0,429....|[0.0,0.0,0.0,1.0,...|       3.0|\n",
      "|[5.0,985145.0,203...|           3.0|[0.0,0.0,0.0,429....|[0.0,0.0,0.0,1.0,...|       3.0|\n",
      "|[5.0,985337.0,200...|           3.0|[0.0,0.0,0.0,429....|[0.0,0.0,0.0,1.0,...|       3.0|\n",
      "|[5.0,986158.0,199...|           3.0|[0.0,0.0,0.0,429....|[0.0,0.0,0.0,1.0,...|       3.0|\n",
      "|[6.0,982746.0,206...|           3.0|[0.0,0.0,0.0,429....|[0.0,0.0,0.0,1.0,...|       3.0|\n",
      "|[6.0,982746.0,206...|           3.0|[0.0,0.0,0.0,429....|[0.0,0.0,0.0,1.0,...|       3.0|\n",
      "|[6.0,982746.0,206...|           3.0|[0.0,0.0,0.0,429....|[0.0,0.0,0.0,1.0,...|       3.0|\n",
      "|[6.0,982746.0,206...|           3.0|[0.0,0.0,0.0,429....|[0.0,0.0,0.0,1.0,...|       3.0|\n",
      "|[6.0,983434.0,205...|           3.0|[0.0,0.0,0.0,429....|[0.0,0.0,0.0,1.0,...|       3.0|\n",
      "+--------------------+--------------+--------------------+--------------------+----------+\n",
      "only showing top 20 rows\n",
      "\n"
     ]
    }
   ],
   "source": [
    "predictions.show()"
   ]
  },
  {
   "cell_type": "code",
   "execution_count": 35,
   "metadata": {},
   "outputs": [
    {
     "name": "stdout",
     "output_type": "stream",
     "text": [
      "RF Accuracy:  0.9959700226244345\n"
     ]
    }
   ],
   "source": [
    "from pyspark.ml.classification import RandomForestClassifier\n",
    "#random forest classifier\n",
    "rfc = RandomForestClassifier(labelCol='ARREST_BOROind',featuresCol='features', maxDepth = 4, maxBins = 26)\n",
    "#traing the data\n",
    "rf_model = rfc.fit(train_data)\n",
    "#predict data\n",
    "rf_predictions = rf_model.transform(test_data)\n",
    "#evaluate\n",
    "from pyspark.ml.evaluation import BinaryClassificationEvaluator\n",
    "eval = BinaryClassificationEvaluator(labelCol='ARREST_BOROind', rawPredictionCol='prediction')\n",
    "print(\"RF Accuracy: \", eval.evaluate(rf_predictions))"
   ]
  },
  {
   "cell_type": "code",
   "execution_count": 36,
   "metadata": {},
   "outputs": [
    {
     "name": "stdout",
     "output_type": "stream",
     "text": [
      "+--------------------+--------------+--------------------+--------------------+----------+\n",
      "|            features|ARREST_BOROind|       rawPrediction|         probability|prediction|\n",
      "+--------------------+--------------+--------------------+--------------------+----------+\n",
      "|[1.0,981170.0,197...|           3.0|[0.03044735240413...|[0.00152236762020...|       3.0|\n",
      "|[1.0,981397.0,201...|           3.0|[0.03044735240413...|[0.00152236762020...|       3.0|\n",
      "|[1.0,982060.0,201...|           3.0|[0.03044735240413...|[0.00152236762020...|       3.0|\n",
      "|[1.0,982351.0,201...|           3.0|[0.03044735240413...|[0.00152236762020...|       3.0|\n",
      "|[1.0,982351.0,201...|           3.0|[0.03044735240413...|[0.00152236762020...|       3.0|\n",
      "|[1.0,982351.0,201...|           3.0|[0.03044735240413...|[0.00152236762020...|       3.0|\n",
      "|[1.0,983628.0,201...|           3.0|[0.03044735240413...|[0.00152236762020...|       3.0|\n",
      "|[5.0,983125.0,199...|           3.0|[0.03044735240413...|[0.00152236762020...|       3.0|\n",
      "|[5.0,983673.0,199...|           3.0|[0.03044735240413...|[0.00152236762020...|       3.0|\n",
      "|[5.0,983903.0,200...|           3.0|[0.03044735240413...|[0.00152236762020...|       3.0|\n",
      "|[5.0,984984.0,200...|           3.0|[0.03044735240413...|[0.00152236762020...|       3.0|\n",
      "|[5.0,984984.0,200...|           3.0|[0.03044735240413...|[0.00152236762020...|       3.0|\n",
      "|[5.0,985145.0,203...|           3.0|[0.03044735240413...|[0.00152236762020...|       3.0|\n",
      "|[5.0,985337.0,200...|           3.0|[0.03044735240413...|[0.00152236762020...|       3.0|\n",
      "|[5.0,986158.0,199...|           3.0|[0.03044735240413...|[0.00152236762020...|       3.0|\n",
      "|[6.0,982746.0,206...|           3.0|[0.03044735240413...|[0.00152236762020...|       3.0|\n",
      "|[6.0,982746.0,206...|           3.0|[0.03044735240413...|[0.00152236762020...|       3.0|\n",
      "|[6.0,982746.0,206...|           3.0|[0.03044735240413...|[0.00152236762020...|       3.0|\n",
      "|[6.0,982746.0,206...|           3.0|[0.03044735240413...|[0.00152236762020...|       3.0|\n",
      "|[6.0,983434.0,205...|           3.0|[0.03044735240413...|[0.00152236762020...|       3.0|\n",
      "+--------------------+--------------+--------------------+--------------------+----------+\n",
      "only showing top 20 rows\n",
      "\n"
     ]
    }
   ],
   "source": [
    "rf_predictions.show()"
   ]
  },
  {
   "cell_type": "code",
   "execution_count": null,
   "metadata": {},
   "outputs": [],
   "source": [
    "from pyspark.ml.evaluation import BinaryClassificationEvaluator\n",
    "eval1 = BinaryClassificationEvaluator(labelCol='ARREST_BOROind', rawPredictionCol='prediction')\n",
    "print(\"DT Accuracy: \", eval1.evaluate(predictions))"
   ]
  },
  {
   "cell_type": "code",
   "execution_count": 37,
   "metadata": {},
   "outputs": [
    {
     "data": {
      "text/plain": [
       "([<matplotlib.axis.XTick at 0x7fbe9a781d68>,\n",
       "  <matplotlib.axis.XTick at 0x7fbe9a775e10>,\n",
       "  <matplotlib.axis.XTick at 0x7fbe9a775b70>,\n",
       "  <matplotlib.axis.XTick at 0x7fbe9956a3c8>,\n",
       "  <matplotlib.axis.XTick at 0x7fbe9956a8d0>],\n",
       " <a list of 5 Text xticklabel objects>)"
      ]
     },
     "execution_count": 37,
     "metadata": {},
     "output_type": "execute_result"
    },
    {
     "name": "stderr",
     "output_type": "stream",
     "text": [
      "/home/ubuntu/.local/lib/python3.5/site-packages/matplotlib/font_manager.py:1328: UserWarning: findfont: Font family ['sans-serif'] not found. Falling back to DejaVu Sans\n",
      "  (prop.get_family(), self.defaultFamily[fontext]))\n"
     ]
    },
    {
     "data": {
      "image/png": "[encoded data removed]",
      "text/plain": [
       "<Figure size 576x396 with 1 Axes>"
      ]
     },
     "metadata": {},
     "output_type": "display_data"
    }
   ],
   "source": [
    "res = rf_predictions.groupBy('prediction').count().collect()\n",
    "cat = [i[0] for i in res]\n",
    "count = [i[1] for i in res]\n",
    "ind = np.array(range(len(cat)))\n",
    "width = 0.35\n",
    "plt.bar(ind,count,width = width,color='b')\n",
    "plt.xticks(ind+width/2,cat)"
   ]
  },
  {
   "cell_type": "code",
   "execution_count": 45,
   "metadata": {},
   "outputs": [
    {
     "name": "stderr",
     "output_type": "stream",
     "text": [
      "/home/ubuntu/.local/lib/python3.5/site-packages/matplotlib/font_manager.py:1328: UserWarning: findfont: Font family ['sans-serif'] not found. Falling back to DejaVu Sans\n",
      "  (prop.get_family(), self.defaultFamily[fontext]))\n"
     ]
    },
    {
     "data": {
      "image/png": "[encoded data removed]",
      "text/plain": [
       "<Figure size 576x396 with 1 Axes>"
      ]
     },
     "metadata": {},
     "output_type": "display_data"
    }
   ],
   "source": [
    "predictionArray = np.array(predictions.select('prediction').collect())\n",
    "geographicAreaArray = np.array(predictions.select('ARREST_BOROind').collect())\n",
    "plt.hist(geographicAreaArray, label=\"actual value\")\n",
    "plt.hist(predictionArray, label=\"predicted value\")\n",
    "plt.title(\"Predicted values vs Actual values\")\n",
    "plt.legend(loc='upper right')\n",
    "plt.show()"
   ]
  },
  {
   "cell_type": "code",
   "execution_count": 46,
   "metadata": {},
   "outputs": [
    {
     "name": "stderr",
     "output_type": "stream",
     "text": [
      "/home/ubuntu/.local/lib/python3.5/site-packages/matplotlib/font_manager.py:1328: UserWarning: findfont: Font family ['sans-serif'] not found. Falling back to DejaVu Sans\n",
      "  (prop.get_family(), self.defaultFamily[fontext]))\n"
     ]
    },
    {
     "data": {
      "image/png": "[encoded data removed]",
      "text/plain": [
       "<Figure size 576x396 with 1 Axes>"
      ]
     },
     "metadata": {},
     "output_type": "display_data"
    }
   ],
   "source": [
    "predictionArray = np.array(rf_predictions.select('prediction').collect())\n",
    "geographicAreaArray = np.array(rf_predictions.select('ARREST_BOROind').collect())\n",
    "plt.hist(geographicAreaArray, label=\"actual value\")\n",
    "plt.hist(predictionArray, label=\"predicted value\")\n",
    "plt.title(\"Predicted values vs Actual values\")\n",
    "plt.legend(loc='upper right')\n",
    "plt.show()"
   ]
  }
 ],
 "metadata": {
  "kernelspec": {
   "display_name": "Python 3",
   "language": "python",
   "name": "python3"
  },
  "language_info": {
   "codemirror_mode": {
    "name": "ipython",
    "version": 3
   },
   "file_extension": ".py",
   "mimetype": "text/x-python",
   "name": "python",
   "nbconvert_exporter": "python",
   "pygments_lexer": "ipython3",
   "version": "3.5.2"
  }
 },
 "nbformat": 4,
 "nbformat_minor": 2
}
